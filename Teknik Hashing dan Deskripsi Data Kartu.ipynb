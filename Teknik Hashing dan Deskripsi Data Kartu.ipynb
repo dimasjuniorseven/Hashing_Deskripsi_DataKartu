{
 "cells": [
  {
   "cell_type": "code",
   "execution_count": 1,
   "id": "9961a349-8568-4059-ad39-97b08df65313",
   "metadata": {},
   "outputs": [
    {
     "name": "stdout",
     "output_type": "stream",
     "text": [
      "=============================================\n",
      "PROSES ENKRIPSI & DEKRIPSI DATA KARTU\n",
      "=============================================\n",
      "Data Asli           : 4111111111111111|123|12/27\n",
      "---------------------------------------------\n",
      "Kunci Enkripsi      : dxSL81E--yyYNoHQZDN_g4lDuSTNDEBntEWnnHC4zQs=\n",
      "Data Terenkripsi    : gAAAAABoYVXIypAm9kcJN7J-XKBJn3CNV5IsspsGOf90A5O2hW4guyYtVboJBYH-EmMx0IxL0jaJ5YGsS5WTnqmsfrEWQvfCYij5wDLiWINklr_PpAMTsCE=\n",
      "---------------------------------------------\n",
      "Data Setelah Dekripsi : 4111111111111111|123|12/27\n",
      "=============================================\n",
      "\n",
      "Verifikasi Berhasil: Data asli cocok dengan data hasil dekripsi.\n"
     ]
    }
   ],
   "source": [
    "# Mengimpor library yang dibutuhkan dari 'cryptography'\n",
    "from cryptography.fernet import Fernet\n",
    "\n",
    "# --- 1. PEMBUATAN KUNCI ---\n",
    "# Menghasilkan sebuah kunci enkripsi yang aman secara kriptografis.\n",
    "# Kunci ini harus disimpan dengan sangat aman dan tidak boleh dibagikan.\n",
    "key = Fernet.generate_key() \n",
    "\n",
    "# Membuat instance (objek) dari kelas Fernet menggunakan kunci yang baru dibuat.\n",
    "# Objek 'cipher_suite' inilah yang akan kita gunakan untuk enkripsi dan dekripsi.\n",
    "cipher_suite = Fernet(key)\n",
    "\n",
    "# --- 2. DATA YANG AKAN DIAMANKAN ---\n",
    "# Contoh data kartu kredit dummy (Nomor Kartu|CVV|Tanggal Kedaluwarsa).\n",
    "# Dalam aplikasi nyata, data ini akan berasal dari input pengguna atau sistem lain.\n",
    "data_kartu = \"4111111111111111|123|12/27\"\n",
    "\n",
    "# --- 3. PROSES ENKRIPSI ---\n",
    "# Mengenkripsi data.\n",
    "# a. `data_kartu.encode()`: Mengubah string menjadi format bytes, karena enkripsi bekerja pada level bytes.\n",
    "# b. `cipher_suite.encrypt(...)`: Melakukan proses enkripsi pada data bytes tersebut.\n",
    "data_terenkripsi = cipher_suite.encrypt(data_kartu.encode())\n",
    "\n",
    "# --- 4. PROSES DEKRIPSI ---\n",
    "# Mendekripsi data yang sebelumnya telah dienkripsi.\n",
    "# a. `cipher_suite.decrypt(...)`: Melakukan proses dekripsi menggunakan kunci yang sama.\n",
    "# b. `.decode()`: Mengubah kembali data bytes hasil dekripsi menjadi format string agar dapat dibaca.\n",
    "data_terdekripsi = cipher_suite.decrypt(data_terenkripsi).decode()\n",
    "\n",
    "# --- 5. TAMPILKAN HASIL ---\n",
    "# Menampilkan semua informasi ke layar untuk verifikasi.\n",
    "# `.decode()` digunakan pada key dan data_terenkripsi agar dapat dicetak sebagai string.\n",
    "print(\"=============================================\")\n",
    "print(\"PROSES ENKRIPSI & DEKRIPSI DATA KARTU\")\n",
    "print(\"=============================================\")\n",
    "print(f\"Data Asli           : {data_kartu}\")\n",
    "print(\"---------------------------------------------\")\n",
    "print(f\"Kunci Enkripsi      : {key.decode()}\")\n",
    "print(f\"Data Terenkripsi    : {data_terenkripsi.decode()}\")\n",
    "print(\"---------------------------------------------\")\n",
    "print(f\"Data Setelah Dekripsi : {data_terdekripsi}\")\n",
    "print(\"=============================================\")\n",
    "\n",
    "# Verifikasi bahwa data asli sama dengan data setelah didekripsi\n",
    "assert data_kartu == data_terdekripsi\n",
    "print(\"\\nVerifikasi Berhasil: Data asli cocok dengan data hasil dekripsi.\")"
   ]
  }
 ],
 "metadata": {
  "kernelspec": {
   "display_name": "Python [conda env:base] *",
   "language": "python",
   "name": "conda-base-py"
  },
  "language_info": {
   "codemirror_mode": {
    "name": "ipython",
    "version": 3
   },
   "file_extension": ".py",
   "mimetype": "text/x-python",
   "name": "python",
   "nbconvert_exporter": "python",
   "pygments_lexer": "ipython3",
   "version": "3.12.7"
  }
 },
 "nbformat": 4,
 "nbformat_minor": 5
}
